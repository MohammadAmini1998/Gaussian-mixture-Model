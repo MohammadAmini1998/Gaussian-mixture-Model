{
 "cells": [
  {
   "cell_type": "code",
   "execution_count": 5,
   "metadata": {},
   "outputs": [],
   "source": [
    "import numpy as np\n",
    "import pandas as pd\n",
    "from sklearn.preprocessing import StandardScaler, LabelEncoder\n",
    "import matplotlib.pyplot as plt\n",
    "from sklearn.metrics import silhouette_score\n"
   ]
  },
  {
   "cell_type": "code",
   "execution_count": 6,
   "metadata": {},
   "outputs": [],
   "source": [
    "df=pd.read_csv(\"Mall_Customers.csv\")"
   ]
  },
  {
   "cell_type": "code",
   "execution_count": 7,
   "metadata": {},
   "outputs": [
    {
     "data": {
      "text/html": [
       "<div>\n",
       "<style scoped>\n",
       "    .dataframe tbody tr th:only-of-type {\n",
       "        vertical-align: middle;\n",
       "    }\n",
       "\n",
       "    .dataframe tbody tr th {\n",
       "        vertical-align: top;\n",
       "    }\n",
       "\n",
       "    .dataframe thead th {\n",
       "        text-align: right;\n",
       "    }\n",
       "</style>\n",
       "<table border=\"1\" class=\"dataframe\">\n",
       "  <thead>\n",
       "    <tr style=\"text-align: right;\">\n",
       "      <th></th>\n",
       "      <th>CustomerID</th>\n",
       "      <th>Gender</th>\n",
       "      <th>Age</th>\n",
       "      <th>Annual Income (k$)</th>\n",
       "      <th>Spending Score (1-100)</th>\n",
       "    </tr>\n",
       "  </thead>\n",
       "  <tbody>\n",
       "    <tr>\n",
       "      <th>0</th>\n",
       "      <td>1</td>\n",
       "      <td>Male</td>\n",
       "      <td>19</td>\n",
       "      <td>15</td>\n",
       "      <td>39</td>\n",
       "    </tr>\n",
       "    <tr>\n",
       "      <th>1</th>\n",
       "      <td>2</td>\n",
       "      <td>Male</td>\n",
       "      <td>21</td>\n",
       "      <td>15</td>\n",
       "      <td>81</td>\n",
       "    </tr>\n",
       "    <tr>\n",
       "      <th>2</th>\n",
       "      <td>3</td>\n",
       "      <td>Female</td>\n",
       "      <td>20</td>\n",
       "      <td>16</td>\n",
       "      <td>6</td>\n",
       "    </tr>\n",
       "    <tr>\n",
       "      <th>3</th>\n",
       "      <td>4</td>\n",
       "      <td>Female</td>\n",
       "      <td>23</td>\n",
       "      <td>16</td>\n",
       "      <td>77</td>\n",
       "    </tr>\n",
       "    <tr>\n",
       "      <th>4</th>\n",
       "      <td>5</td>\n",
       "      <td>Female</td>\n",
       "      <td>31</td>\n",
       "      <td>17</td>\n",
       "      <td>40</td>\n",
       "    </tr>\n",
       "  </tbody>\n",
       "</table>\n",
       "</div>"
      ],
      "text/plain": [
       "   CustomerID  Gender  Age  Annual Income (k$)  Spending Score (1-100)\n",
       "0           1    Male   19                  15                      39\n",
       "1           2    Male   21                  15                      81\n",
       "2           3  Female   20                  16                       6\n",
       "3           4  Female   23                  16                      77\n",
       "4           5  Female   31                  17                      40"
      ]
     },
     "execution_count": 7,
     "metadata": {},
     "output_type": "execute_result"
    }
   ],
   "source": [
    "df.head()"
   ]
  },
  {
   "cell_type": "code",
   "execution_count": 8,
   "metadata": {},
   "outputs": [
    {
     "name": "stdout",
     "output_type": "stream",
     "text": [
      "CustomerID                0\n",
      "Gender                    0\n",
      "Age                       0\n",
      "Annual Income (k$)        0\n",
      "Spending Score (1-100)    0\n",
      "dtype: int64\n"
     ]
    }
   ],
   "source": [
    "# Check for missing values\n",
    "print(df.isnull().sum())\n",
    "\n",
    "\n"
   ]
  },
  {
   "cell_type": "code",
   "execution_count": 9,
   "metadata": {},
   "outputs": [
    {
     "name": "stdout",
     "output_type": "stream",
     "text": [
      "       CustomerID         Age  Annual Income (k$)  Spending Score (1-100)\n",
      "count  200.000000  200.000000          200.000000              200.000000\n",
      "mean   100.500000   38.850000           60.560000               50.200000\n",
      "std     57.879185   13.969007           26.264721               25.823522\n",
      "min      1.000000   18.000000           15.000000                1.000000\n",
      "25%     50.750000   28.750000           41.500000               34.750000\n",
      "50%    100.500000   36.000000           61.500000               50.000000\n",
      "75%    150.250000   49.000000           78.000000               73.000000\n",
      "max    200.000000   70.000000          137.000000               99.000000\n"
     ]
    }
   ],
   "source": [
    "\n",
    "# Analyze the distributions of different variables\n",
    "print(df.describe())"
   ]
  },
  {
   "cell_type": "code",
   "execution_count": 10,
   "metadata": {},
   "outputs": [
    {
     "name": "stdout",
     "output_type": "stream",
     "text": [
      "                        CustomerID       Age  Annual Income (k$)  \\\n",
      "CustomerID                1.000000 -0.026763            0.977548   \n",
      "Age                      -0.026763  1.000000           -0.012398   \n",
      "Annual Income (k$)        0.977548 -0.012398            1.000000   \n",
      "Spending Score (1-100)    0.013835 -0.327227            0.009903   \n",
      "\n",
      "                        Spending Score (1-100)  \n",
      "CustomerID                            0.013835  \n",
      "Age                                  -0.327227  \n",
      "Annual Income (k$)                    0.009903  \n",
      "Spending Score (1-100)                1.000000  \n"
     ]
    }
   ],
   "source": [
    "# Explore relationships between different variables\n",
    "print(df.corr())"
   ]
  },
  {
   "cell_type": "code",
   "execution_count": 11,
   "metadata": {},
   "outputs": [],
   "source": [
    "# Convert categorical variable 'Gender' into numerical using Label Encoding\n",
    "label_encoder_gender = LabelEncoder()\n",
    "df['Gender'] = label_encoder_gender.fit_transform(df['Gender'])\n",
    "\n",
    "# Scale numerical features using StandardScaler\n",
    "scaler = StandardScaler()\n",
    "df[['Age', 'Annual Income (k$)', 'Spending Score (1-100)']] = scaler.fit_transform(df[['Age', 'Annual Income (k$)', 'Spending Score (1-100)']])"
   ]
  },
  {
   "cell_type": "code",
   "execution_count": 12,
   "metadata": {},
   "outputs": [
    {
     "data": {
      "text/html": [
       "<div>\n",
       "<style scoped>\n",
       "    .dataframe tbody tr th:only-of-type {\n",
       "        vertical-align: middle;\n",
       "    }\n",
       "\n",
       "    .dataframe tbody tr th {\n",
       "        vertical-align: top;\n",
       "    }\n",
       "\n",
       "    .dataframe thead th {\n",
       "        text-align: right;\n",
       "    }\n",
       "</style>\n",
       "<table border=\"1\" class=\"dataframe\">\n",
       "  <thead>\n",
       "    <tr style=\"text-align: right;\">\n",
       "      <th></th>\n",
       "      <th>CustomerID</th>\n",
       "      <th>Gender</th>\n",
       "      <th>Age</th>\n",
       "      <th>Annual Income (k$)</th>\n",
       "      <th>Spending Score (1-100)</th>\n",
       "    </tr>\n",
       "  </thead>\n",
       "  <tbody>\n",
       "    <tr>\n",
       "      <th>0</th>\n",
       "      <td>1</td>\n",
       "      <td>1</td>\n",
       "      <td>-1.424569</td>\n",
       "      <td>-1.738999</td>\n",
       "      <td>-0.434801</td>\n",
       "    </tr>\n",
       "    <tr>\n",
       "      <th>1</th>\n",
       "      <td>2</td>\n",
       "      <td>1</td>\n",
       "      <td>-1.281035</td>\n",
       "      <td>-1.738999</td>\n",
       "      <td>1.195704</td>\n",
       "    </tr>\n",
       "    <tr>\n",
       "      <th>2</th>\n",
       "      <td>3</td>\n",
       "      <td>0</td>\n",
       "      <td>-1.352802</td>\n",
       "      <td>-1.700830</td>\n",
       "      <td>-1.715913</td>\n",
       "    </tr>\n",
       "    <tr>\n",
       "      <th>3</th>\n",
       "      <td>4</td>\n",
       "      <td>0</td>\n",
       "      <td>-1.137502</td>\n",
       "      <td>-1.700830</td>\n",
       "      <td>1.040418</td>\n",
       "    </tr>\n",
       "    <tr>\n",
       "      <th>4</th>\n",
       "      <td>5</td>\n",
       "      <td>0</td>\n",
       "      <td>-0.563369</td>\n",
       "      <td>-1.662660</td>\n",
       "      <td>-0.395980</td>\n",
       "    </tr>\n",
       "  </tbody>\n",
       "</table>\n",
       "</div>"
      ],
      "text/plain": [
       "   CustomerID  Gender       Age  Annual Income (k$)  Spending Score (1-100)\n",
       "0           1       1 -1.424569           -1.738999               -0.434801\n",
       "1           2       1 -1.281035           -1.738999                1.195704\n",
       "2           3       0 -1.352802           -1.700830               -1.715913\n",
       "3           4       0 -1.137502           -1.700830                1.040418\n",
       "4           5       0 -0.563369           -1.662660               -0.395980"
      ]
     },
     "execution_count": 12,
     "metadata": {},
     "output_type": "execute_result"
    }
   ],
   "source": [
    "df.head()"
   ]
  },
  {
   "cell_type": "code",
   "execution_count": 13,
   "metadata": {},
   "outputs": [],
   "source": [
    "class GMM:\n",
    "    def __init__(self, n_components, max_iter = 100, comp_names=None):\n",
    "        self.n_componets = n_components\n",
    "        self.max_iter = max_iter\n",
    "        if comp_names == None:\n",
    "            self.comp_names = [f\"comp{index}\" for index in range(self.n_componets)]\n",
    "        else:\n",
    "            self.comp_names = comp_names\n",
    "        # pi list contains the fraction of the dataset for every cluster\n",
    "        self.pi = [1/self.n_componets for comp in range(self.n_componets)]"
   ]
  },
  {
   "cell_type": "code",
   "execution_count": 14,
   "metadata": {},
   "outputs": [],
   "source": [
    "\n",
    "\n",
    "# Importing the libraries\n",
    "import numpy as np\n",
    "import pandas as pd\n",
    "class GMM:\n",
    "    '''\n",
    "        This class is the implementation of the Gaussian Mixture Models \n",
    "        inspired by sci-kit learn implementation.\n",
    "    '''\n",
    "    def __init__(self, n_components, max_iter = 100, comp_names=None):\n",
    "        '''\n",
    "            This functions initializes the model by seting the following paramenters:\n",
    "                :param n_components: int\n",
    "                    The number of clusters in which the algorithm must split\n",
    "                    the data set\n",
    "                :param max_iter: int, default = 100\n",
    "                    The number of iteration that the algorithm will go throw to find the clusters\n",
    "                :param comp_names: list of strings, default=None\n",
    "                    In case it is setted as a list of string it will use to\n",
    "                    name the clusters\n",
    "        '''\n",
    "        self.n_componets = n_components\n",
    "        self.max_iter = max_iter\n",
    "        if comp_names == None:\n",
    "            self.comp_names = [f\"comp{index}\" for index in range(self.n_componets)]\n",
    "        else:\n",
    "            self.comp_names = comp_names\n",
    "        # pi list contains the fraction of the dataset for every cluster\n",
    "        self.pi = [1/self.n_componets for comp in range(self.n_componets)]\n",
    "\n",
    "    def multivariate_normal(self, X, mean_vector, covariance_matrix):\n",
    "        '''\n",
    "            This function implements the multivariat normal derivation formula,\n",
    "            the normal distribution for vectors it requires the following parameters\n",
    "                :param X: 1-d numpy array\n",
    "                    The row-vector for which we want to calculate the distribution\n",
    "                :param mean_vector: 1-d numpy array\n",
    "                    The row-vector that contains the means for each column\n",
    "                :param covariance_matrix: 2-d numpy array (matrix)\n",
    "                    The 2-d matrix that contain the covariances for the features\n",
    "        '''\n",
    "        return (2*np.pi)**(-len(X)/2)*np.linalg.det(covariance_matrix)**(-1/2)*np.exp(-np.dot(np.dot((X-mean_vector).T,\n",
    "                 np.linalg.inv(covariance_matrix)), (X-mean_vector))/2)\n",
    "\n",
    "    def fit(self, X):\n",
    "        '''\n",
    "            The function for training the model\n",
    "                :param X: 2-d numpy array\n",
    "                    The data must be passed to the algorithm as 2-d array, \n",
    "                    where columns are the features and the rows are the samples\n",
    "        '''\n",
    "        # Spliting the data in n_componets sub-sets\n",
    "        new_X = np.array_split(X, self.n_componets)\n",
    "        # Initial computation of the mean-vector and covarience matrix\n",
    "        self.mean_vector = [np.mean(x, axis=0) for x in new_X]\n",
    "        self.covariance_matrixes = [np.cov(x.T) for x in new_X]\n",
    "        # Deleting the new_X matrix because we will not need it anymore\n",
    "        del new_X\n",
    "        for iteration in range(self.max_iter):\n",
    "            ''' --------------------------   E - STEP   -------------------------- '''\n",
    "            # Initiating the r matrix, evrey row contains the probabilities\n",
    "            # for every cluster for this row\n",
    "            self.r = np.zeros((len(X), self.n_componets))\n",
    "            # Calculating the r matrix\n",
    "            for n in range(len(X)):\n",
    "                for k in range(self.n_componets):\n",
    "                    self.r[n][k] = self.pi[k] * self.multivariate_normal(X[n], self.mean_vector[k], self.covariance_matrixes[k])\n",
    "                    self.r[n][k] /= sum([self.pi[j]*self.multivariate_normal(X[n], self.mean_vector[j], self.covariance_matrixes[j]) for j in range(self.n_componets)])\n",
    "            # Calculating the N\n",
    "            N = np.sum(self.r, axis=0)\n",
    "            ''' --------------------------   M - STEP   -------------------------- '''\n",
    "            # Initializing the mean vector as a zero vector\n",
    "            self.mean_vector = np.zeros((self.n_componets, len(X[0])))\n",
    "            # Updating the mean vector\n",
    "            for k in range(self.n_componets):\n",
    "                for n in range(len(X)):\n",
    "                    self.mean_vector[k] += self.r[n][k] * X[n]\n",
    "            self.mean_vector = [1/N[k]*self.mean_vector[k] for k in range(self.n_componets)]\n",
    "            # Initiating the list of the covariance matrixes\n",
    "            self.covariance_matrixes = [np.zeros((len(X[0]), len(X[0]))) for k in range(self.n_componets)]\n",
    "            # Updating the covariance matrices\n",
    "            for k in range(self.n_componets):\n",
    "                self.covariance_matrixes[k] = np.cov(X.T, aweights=(self.r[:, k]), ddof=0)\n",
    "            self.covariance_matrixes = [1/N[k]*self.covariance_matrixes[k] for k in range(self.n_componets)]\n",
    "            # Updating the pi list\n",
    "            self.pi = [N[k]/len(X) for k in range(self.n_componets)]\n",
    "    def predict(self, X):\n",
    "        '''\n",
    "            The predicting function\n",
    "                :param X: 2-d array numpy array\n",
    "                    The data on which we must predict the clusters\n",
    "        '''\n",
    "        probas = []\n",
    "        for n in range(len(X)):\n",
    "            probas.append([self.multivariate_normal(X[n], self.mean_vector[k], self.covariance_matrixes[k])\n",
    "                           for k in range(self.n_componets)])\n",
    "        cluster = []\n",
    "        for proba in probas:\n",
    "            cluster.append(self.comp_names[proba.index(max(proba))])\n",
    "        return cluster"
   ]
  },
  {
   "cell_type": "code",
   "execution_count": 23,
   "metadata": {},
   "outputs": [],
   "source": [
    "X = df.iloc[:, [ 2,3, 4]].values\n",
    "\n",
    "# print(X)\n",
    "\n",
    "gmm = GMM(n_components=3, max_iter=100, comp_names=[\"Cluster 1\", \"Cluster 2\", \"Cluster 3\"])\n",
    "\n",
    "# Fit the GMM model to your data\n",
    "result=gmm.fit(X)\n",
    "\n"
   ]
  },
  {
   "cell_type": "code",
   "execution_count": 24,
   "metadata": {},
   "outputs": [
    {
     "data": {
      "image/png": "[encoded data removed]",
      "text/plain": [
       "<Figure size 432x288 with 1 Axes>"
      ]
     },
     "metadata": {
      "needs_background": "light"
     },
     "output_type": "display_data"
    }
   ],
   "source": [
    "\n",
    "# Predict the clusters for each data point\n",
    "clusters = gmm.predict(X)\n",
    "\n",
    "# Define colors for each cluster\n",
    "colors = {c: plt.cm.tab10(i) for i, c in enumerate(set(clusters))}\n",
    "\n",
    "# Plot the points with different colors based on their cluster\n",
    "fig, ax = plt.subplots()\n",
    "for key, group in zip(set(clusters), pd.DataFrame(X).groupby(clusters)):\n",
    "    group[1].plot(ax=ax, kind='scatter', x=0, y=1, label=key, color=colors[key])\n",
    "\n",
    "plt.xlabel('Annual Income (k$)')\n",
    "plt.ylabel('Spending Score (1-100)')\n",
    "plt.title('GMM Clustering Results')\n",
    "\n",
    "plt.show()"
   ]
  },
  {
   "cell_type": "code",
   "execution_count": 17,
   "metadata": {},
   "outputs": [
    {
     "name": "stdout",
     "output_type": "stream",
     "text": [
      "Number of components: 2, Silhouette score: 0.24435730693243995\n",
      "Number of components: 3, Silhouette score: 0.14189389460934337\n",
      "Number of components: 4, Silhouette score: 0.11204698366364156\n",
      "Number of components: 5, Silhouette score: 0.06750948487008036\n",
      "Number of components: 6, Silhouette score: 0.029438559216474123\n",
      "Number of components: 7, Silhouette score: -0.005369206245666121\n",
      "Number of components: 8, Silhouette score: -0.027281600677826368\n",
      "Number of components: 9, Silhouette score: -0.030815007354342144\n"
     ]
    }
   ],
   "source": [
    "\n",
    "# Define a list of candidate numbers of components\n",
    "n_components = [2, 3, 4, 5,6,7,8,9]\n",
    "\n",
    "# Fit the GMM model with each number of components and compute the silhouette score\n",
    "for n in n_components:\n",
    "    gmm = GMM(n_components=n)\n",
    "    gmm.fit(X)\n",
    "    clusters = gmm.predict(X)\n",
    "    score = silhouette_score(X, clusters)\n",
    "    print(f\"Number of components: {n}, Silhouette score: {score}\")"
   ]
  },
  {
   "cell_type": "code",
   "execution_count": 25,
   "metadata": {},
   "outputs": [],
   "source": [
    "gmm = GMM(n_components=2)\n",
    "gmm.fit(X)\n",
    "clusters = gmm.predict(X)"
   ]
  },
  {
   "cell_type": "code",
   "execution_count": 37,
   "metadata": {},
   "outputs": [
    {
     "name": "stdout",
     "output_type": "stream",
     "text": [
      "Cluster sizes:\n",
      "Cluster\n",
      "comp0     98\n",
      "comp1    102\n",
      "dtype: int64\n",
      "Cluster means:\n",
      "         CustomerID    Gender       Age  Annual Income (k$)  \\\n",
      "Cluster                                                       \n",
      "comp0     53.673469  0.418367  0.405482           -0.766458   \n",
      "comp1    145.490196  0.460784 -0.389581            0.736401   \n",
      "\n",
      "         Spending Score (1-100)  \n",
      "Cluster                          \n",
      "comp0                 -0.034702  \n",
      "comp1                  0.033341  \n"
     ]
    },
    {
     "data": {
      "image/png": "[encoded data removed]",
      "text/plain": [
       "<Figure size 864x360 with 2 Axes>"
      ]
     },
     "metadata": {
      "needs_background": "light"
     },
     "output_type": "display_data"
    }
   ],
   "source": [
    "import pandas as pd\n",
    "import matplotlib.pyplot as plt\n",
    "import seaborn as sns\n",
    "\n",
    "# Predict the clusters for each data point\n",
    "clusters = gmm.predict(X)\n",
    "\n",
    "# Add the cluster assignments to the original dataframe\n",
    "df['Cluster'] = clusters\n",
    "\n",
    "# Determine the size of each cluster\n",
    "cluster_sizes = df.groupby('Cluster').size()\n",
    "print(\"Cluster sizes:\")\n",
    "print(cluster_sizes)\n",
    "\n",
    "# Examine the characteristics of each cluster\n",
    "cluster_means = df.groupby('Cluster').mean()\n",
    "print(\"Cluster means:\")\n",
    "print(cluster_means)\n",
    "\n",
    "# Visualize the clusters using a scatter plot\n",
    "# Create a figure with two subplots\n",
    "fig, axes = plt.subplots(nrows=1, ncols=2, figsize=(12, 5))\n",
    "\n",
    "# Scatter plot for 'Annual Income' vs. 'Spending Score'\n",
    "sns.scatterplot(x='Annual Income (k$)', y='Spending Score (1-100)', hue='Cluster', data=df, ax=axes[0])\n",
    "axes[0].set_xlabel('Annual Income (k$)')\n",
    "axes[0].set_ylabel('Spending Score (1-100)')\n",
    "axes[0].set_title('GMM Clustering Results')\n",
    "\n",
    "# Scatter plot for 'Age' vs. 'Spending Score'\n",
    "sns.scatterplot(x='Age', y='Spending Score (1-100)', hue='Cluster', data=df, ax=axes[1])\n",
    "axes[1].set_xlabel('Age')\n",
    "axes[1].set_ylabel('Spending Score (1-100)')\n",
    "axes[1].set_title('GMM Clustering Results')\n",
    "\n",
    "# Adjust the spacing between subplots\n",
    "plt.tight_layout()\n",
    "\n",
    "# Show the plots\n",
    "plt.show()\n",
    "\n"
   ]
  }
 ],
 "metadata": {
  "kernelspec": {
   "display_name": "Python 3",
   "language": "python",
   "name": "python3"
  },
  "language_info": {
   "codemirror_mode": {
    "name": "ipython",
    "version": 3
   },
   "file_extension": ".py",
   "mimetype": "text/x-python",
   "name": "python",
   "nbconvert_exporter": "python",
   "pygments_lexer": "ipython3",
   "version": "3.9.6"
  },
  "orig_nbformat": 4
 },
 "nbformat": 4,
 "nbformat_minor": 2
}
